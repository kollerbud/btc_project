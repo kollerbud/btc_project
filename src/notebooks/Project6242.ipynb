{
  "nbformat": 4,
  "nbformat_minor": 0,
  "metadata": {
    "colab": {
      "provenance": [],
      "toc_visible": true,
      "include_colab_link": true
    },
    "kernelspec": {
      "name": "python3",
      "display_name": "Python 3"
    },
    "language_info": {
      "name": "python"
    }
  },
  "cells": [
    {
      "cell_type": "markdown",
      "metadata": {
        "id": "view-in-github",
        "colab_type": "text"
      },
      "source": [
        "<a href=\"https://colab.research.google.com/github/kollerbud/btc_project/blob/main/src/notebooks/Project6242.ipynb\" target=\"_parent\"><img src=\"https://colab.research.google.com/assets/colab-badge.svg\" alt=\"Open In Colab\"/></a>"
      ]
    },
    {
      "cell_type": "code",
      "source": [
        "!python --version"
      ],
      "metadata": {
        "colab": {
          "base_uri": "https://localhost:8080/"
        },
        "id": "uNDfFxMXdEhL",
        "outputId": "420df476-9cd0-43d2-a456-e7a504d089e7"
      },
      "execution_count": 1,
      "outputs": [
        {
          "output_type": "stream",
          "name": "stdout",
          "text": [
            "Python 3.10.12\n"
          ]
        }
      ]
    },
    {
      "cell_type": "markdown",
      "source": [
        "# Data Loading Pipeline"
      ],
      "metadata": {
        "id": "rpikqCiyCoA-"
      }
    },
    {
      "cell_type": "code",
      "source": [
        "import pandas as pd\n",
        "from typing import Any, Tuple, Dict, List\n",
        "import numpy as np\n",
        "import pandas as pd\n",
        "import seaborn as sns\n",
        "import statsmodels.api as stat\n",
        "from sklearn.preprocessing import MinMaxScaler, StandardScaler\n",
        "from sklearn.model_selection import train_test_split"
      ],
      "metadata": {
        "id": "OfmSODWPeLH6"
      },
      "execution_count": 2,
      "outputs": []
    },
    {
      "cell_type": "code",
      "source": [
        "class Data_Loader:\n",
        "\n",
        "  data = None\n",
        "\n",
        "  def __init__(self) -> None:\n",
        "    self.load_data()\n",
        "\n",
        "  def load_data(self) -> 'Data_Loader':\n",
        "    # read from github\n",
        "    df_data = pd.read_csv('https://raw.githubusercontent.com/kollerbud/btc_project/main/data/Data_ex_FRED.csv', parse_dates=['Time'])\n",
        "    df_fred = pd.read_csv('https://raw.githubusercontent.com/kollerbud/btc_project/main/data/FRED_HARDCODED2.csv', parse_dates=['DATE'])\n",
        "    # drop Unnamed columns\n",
        "    df_fred.drop(df_fred.filter(regex='Unname'), axis=1, inplace=True)\n",
        "    df_data.drop(df_data.filter(regex='Unname'), axis=1, inplace=True)\n",
        "    # join both dataframe\n",
        "    df_combine = pd.merge(left=df_fred,\n",
        "                          right=df_data,\n",
        "                          how='inner',\n",
        "                          left_on=['DATE'],\n",
        "                          right_on=['Time'])\n",
        "    # delete extra time\n",
        "    del df_combine['Time']\n",
        "    # drop null rows in \"crypto_market\"\n",
        "    df_combine.dropna(subset=['crypto_market'], inplace=True)\n",
        "    # remove columns with \"..\", \"Country\", \"Country Code\" etc..\n",
        "    obj_col = df_combine.select_dtypes(include=['object']).columns\n",
        "    df_combine = df_combine.loc[:, ~(df_combine.columns.isin(obj_col))]\n",
        "\n",
        "    df_combine = df_combine.reset_index(drop=True).set_index('DATE')\n",
        "\n",
        "    # initialize dataset\n",
        "    self.data = df_combine\n",
        "\n",
        "    return self"
      ],
      "metadata": {
        "id": "99ZFqEY9jdWm"
      },
      "execution_count": 3,
      "outputs": []
    },
    {
      "cell_type": "code",
      "source": [
        "class Data_Processing:\n",
        "\n",
        "  # keep track of dataset\n",
        "  processed_data = None\n",
        "\n",
        "  def __init__(self,\n",
        "               data_loader: pd.DataFrame,\n",
        "               target_col: list,\n",
        "               keep_col: list = None,\n",
        "               price_to_return: bool = False\n",
        "               ) -> None:\n",
        "\n",
        "    self.target_col = target_col\n",
        "    if not isinstance(self.target_col, list):\n",
        "      raise TypeError('use format \"[column_name]\"')\n",
        "    # hook for data loader\n",
        "    self.processed_data = data_loader.data\n",
        "    # fill NAs\n",
        "    self.clean_na(self.target_col)\n",
        "    # remove columns with constant\n",
        "    self.remove_const()\n",
        "    # remove correlation\n",
        "    if keep_col is not None:\n",
        "      self.remove_correlation(\n",
        "            target_col=self.target_col,\n",
        "            include_col_list=keep_col)\n",
        "    else:\n",
        "      self.remove_correlation(target_col=self.target_col)\n",
        "    # if convert to return instead\n",
        "    if price_to_return:\n",
        "      self.convert_to_return()\n",
        "\n",
        "  def clean_na(self, target_var_list: list) -> 'Data_Processing':\n",
        "    df_copy = self.processed_data.copy()\n",
        "    # remove target column(s)\n",
        "    df_copy = df_copy.loc[:, ~df_copy.columns.isin(target_var_list)]\n",
        "    # find column of \"object\" datatype\n",
        "    obj_col = df_copy.select_dtypes(include=['object']).columns\n",
        "    for col in obj_col:\n",
        "      try:\n",
        "        df_copy[col] = df_copy[col].astype(float)\n",
        "      except TypeError:\n",
        "        df_copy[col] = df_copy[col].replace({'null':np.nan})\n",
        "        df_copy[col] = df_copy[col].astype(float)\n",
        "      except ValueError:\n",
        "        df_copy[col] = df_copy[col].replace({'null':np.nan})\n",
        "        df_copy[col] = df_copy[col].astype(float)\n",
        "\n",
        "    # add target back in\n",
        "    df_copy[target_var_list] = self.processed_data[target_var_list]\n",
        "    # fill NAs\n",
        "    df_copy = df_copy.fillna(method='ffill')\n",
        "\n",
        "    # update dataset\n",
        "    self.processed_data = df_copy\n",
        "\n",
        "    return self\n",
        "\n",
        "  def remove_const(self) -> 'Data_Processing':\n",
        "    # there are columns with constant\n",
        "    df_copy = self.processed_data.copy()\n",
        "\n",
        "    exchange_col = [col for col in df_copy.columns if 'exchange rate' in col.lower()]\n",
        "\n",
        "    df_copy = df_copy.loc[:, ~df_copy.columns.isin(exchange_col)]\n",
        "\n",
        "    # reassign dataset\n",
        "    self.processed_data = df_copy\n",
        "    return self\n",
        "\n",
        "  def remove_correlation(self,\n",
        "                        target_col: list,\n",
        "                        include_col_list: list=None,\n",
        "                        cut_off: int=0.5) -> 'Data_Processing':\n",
        "    # https://stackoverflow.com/questions/29294983/how-to-calculate-correlation-between-all-columns-and-remove-highly-correlated-on\n",
        "    # https://www.kaggle.com/code/oldwine357/removing-highly-correlated-features\n",
        "    # https://www.ncbi.nlm.nih.gov/pmc/articles/PMC3576830/\n",
        "    # .30 to .50 (−.30 to −.50)\tLow positive (negative) correlation\n",
        "    # .00 to .30 (.00 to −.30)\tnegligible correlation\n",
        "    df_copy = self.processed_data.copy()\n",
        "    # remove target column(s)\n",
        "    df_copy = df_copy.loc[:, ~df_copy.columns.isin(target_col)]\n",
        "    # create correlation matrix\n",
        "    corr_matrix = df_copy.corr().abs()\n",
        "    # select upper triangle of the correlation matrix\n",
        "    upper = corr_matrix.where(np.triu(np.ones(corr_matrix.shape), k=1).astype(bool))\n",
        "    # find columns(features) with correlation higher than cut_off\n",
        "    to_drop = [col for col in upper.columns if any(upper[col]>cut_off)]\n",
        "\n",
        "    print(f'{len(to_drop)} columns dropped: {to_drop}')\n",
        "    # drop the columns\n",
        "    df_copy.drop(to_drop, axis=1, inplace=True)\n",
        "    # add excluded list back in\n",
        "    if include_col_list is not None:\n",
        "      df_copy[include_col_list] = self.processed_data[include_col_list]\n",
        "    # add target back in\n",
        "    df_copy[target_col] = self.processed_data[target_col]\n",
        "\n",
        "    # update dataset\n",
        "    self.processed_data = df_copy\n",
        "\n",
        "    return self\n",
        "\n",
        "  def convert_to_return(self) -> 'Data_Processing':\n",
        "    df_copy = self.processed_data.copy()\n",
        "    # convert target to percent change from previous\n",
        "    df_copy[self.target_col] = df_copy[self.target_col].pct_change(1)\n",
        "\n",
        "    # first row is NA\n",
        "    df_copy.dropna(subset=self.target_col, inplace=True)\n",
        "    # update processing dataset\n",
        "    self.processed_data = df_copy\n",
        "    return self"
      ],
      "metadata": {
        "id": "_j4xT1ZB1cA1"
      },
      "execution_count": 4,
      "outputs": []
    },
    {
      "cell_type": "code",
      "source": [
        "class Data_Normalization:\n",
        "\n",
        "  norm_data = None\n",
        "  scaler_obj = {}\n",
        "\n",
        "  def __init__(self,\n",
        "               data_processor,\n",
        "               use_scaler=StandardScaler()) -> None:\n",
        "    # initialize dataset from processor above\n",
        "    self.norm_data = data_processor.processed_data\n",
        "    # initialize scaler\n",
        "    self.scaler = use_scaler\n",
        "\n",
        "  def normalize(self):\n",
        "    df_copy = self.norm_data.copy()\n",
        "    use_cols = df_copy.select_dtypes(exclude=['datetime']).columns\n",
        "    df_copy = df_copy.loc[:, use_cols]\n",
        "\n",
        "    for col in df_copy.columns:\n",
        "      # loop through all columns and normalize data\n",
        "      # reshape each column\n",
        "      to_scale = np.array(df_copy[col]).reshape(-1,1)\n",
        "\n",
        "      self.scaler_obj[col+'_scaler'] = self.scaler\n",
        "      df_copy[col]=self.scaler.fit_transform(to_scale)\n",
        "\n",
        "      # update norm_data\n",
        "    self.norm_data = df_copy\n",
        "\n",
        "    return self\n"
      ],
      "metadata": {
        "id": "Dv6s5X-6DWC_"
      },
      "execution_count": 5,
      "outputs": []
    },
    {
      "cell_type": "code",
      "source": [
        "class Data_Spliter:\n",
        "\n",
        "  x_train = None\n",
        "  y_train = None\n",
        "  x_test = None\n",
        "  y_test = None\n",
        "\n",
        "  def __init__(self,\n",
        "               norm_data: Data_Normalization,\n",
        "               target_col: list):\n",
        "    # initialize data from above\n",
        "    self.norm_data = norm_data.norm_data\n",
        "\n",
        "    self.target_col = target_col\n",
        "    if not isinstance(self.target_col, list):\n",
        "      raise TypeError('use format \"[column_name]\"')\n",
        "\n",
        "\n",
        "  def data_splits(self,\n",
        "                  train_perc: float=0.75,\n",
        "                  valid_perc: float=0.10,\n",
        "                  test_perc: float=0.15,\n",
        "                  ) -> 'Data_Spliter':\n",
        "\n",
        "    df_copy = self.norm_data.copy()\n",
        "\n",
        "    _x = df_copy.loc[:, ~df_copy.columns.isin(self.target_col)]\n",
        "    _y = df_copy.loc[:, self.target_col]\n",
        "    # train is now 75% of the entire data set\n",
        "    (self.x_train, self.x_test,\n",
        "     self.y_train, self.y_test) = train_test_split(_x, _y, test_size=1 - train_perc, shuffle=False, random_state=24)\n",
        "    # test is now 10% of the initial data set\n",
        "    # validation is now 15% of the initial data set\n",
        "    # x_val, x_test, y_val, y_test = train_test_split(x_test, y_test, test_size=test_perc/(test_perc + valid_perc), shuffle=False)\n",
        "\n",
        "    return self\n",
        "\n",
        "  def feature_selection_by_p(self,\n",
        "                            p_val: float=0.05,\n",
        "                            ):\n",
        "    'select features by p-value'\n",
        "    # initialize dataframe\n",
        "    df_copy = self.norm_data.copy()\n",
        "    # exlcude columns\n",
        "    _target = df_copy.loc[:, self.target_col]\n",
        "    _feature = df_copy.loc[:, ~df_copy.columns.isin(self.target_col)]\n",
        "\n",
        "    # https://stackoverflow.com/questions/41075098/how-to-get-the-p-value-in-a-variable-from-olsresults-in-python\n",
        "    ols_model = stat.OLS(_target, stat.add_constant(_feature)).fit()\n",
        "\n",
        "    return ols_model"
      ],
      "metadata": {
        "id": "hwubb7EODasE"
      },
      "execution_count": 6,
      "outputs": []
    },
    {
      "cell_type": "markdown",
      "source": [
        "# Exploratory Data Analysis"
      ],
      "metadata": {
        "id": "auRzhV5YmPQp"
      }
    },
    {
      "cell_type": "markdown",
      "source": [
        "# EDA Pipeline"
      ],
      "metadata": {
        "id": "nGfjjWrrXs4O"
      }
    },
    {
      "cell_type": "code",
      "source": [
        "def Preprocess_Pipeline():\n",
        "  # load from data source\n",
        "  loader = Data_Loader()\n",
        "  # data type clean up and fill na\n",
        "  _processor = Data_Processing(data_loader=loader,\n",
        "                               target_col=['crypto_market'],\n",
        "                               keep_col=['Crypto_Trends'],\n",
        "                               price_to_return=True\n",
        "                               )\n",
        "\n",
        "\n",
        "  # normalize all columns\n",
        "  normalization = Data_Normalization(data_processor=_processor)\n",
        "  # normalization.normalize()\n",
        "  # tracking scaler obj\n",
        "  scaler_tracker = normalization.scaler_obj\n",
        "  # train/test split\n",
        "  split = Data_Spliter(norm_data=normalization, target_col=['crypto_market'])\n",
        "  split.data_splits()\n",
        "\n",
        "  y_train = split.y_train\n",
        "  y_train = y_train.loc[y_train['crypto_market']!=0]\n",
        "  x_train = split.x_train.loc[y_train.index]\n",
        "\n",
        "  y_test = split.y_test\n",
        "  y_test = y_test.loc[y_test['crypto_market']!=0]\n",
        "  x_test  = split.x_test.loc[y_test.index]\n",
        "\n",
        "  test_tot = pd.concat([y_train, y_test])\n",
        "  inv_tot = (1 + test_tot).cumprod()*100\n",
        "\n",
        "  return {\n",
        "      'x_train': x_train,\n",
        "      'x_test': x_test,\n",
        "      'y_train': y_train,\n",
        "      'y_test': y_test,\n",
        "      'inverse_price': inv_tot\n",
        "  }"
      ],
      "metadata": {
        "id": "uNPPQYW0Xwed"
      },
      "execution_count": 7,
      "outputs": []
    },
    {
      "cell_type": "code",
      "source": [
        "prep = Preprocess_Pipeline()"
      ],
      "metadata": {
        "colab": {
          "base_uri": "https://localhost:8080/"
        },
        "id": "xpuV3tgPzNmp",
        "outputId": "51ba0673-09d3-4632-f6af-c003f15e53cd"
      },
      "execution_count": 8,
      "outputs": [
        {
          "output_type": "stream",
          "name": "stderr",
          "text": [
            "<ipython-input-3-4f89dc4d9f56>:11: DtypeWarning: Columns (506) have mixed types. Specify dtype option on import or set low_memory=False.\n",
            "  df_fred = pd.read_csv('https://raw.githubusercontent.com/kollerbud/btc_project/main/data/FRED_HARDCODED2.csv', parse_dates=['DATE'])\n"
          ]
        },
        {
          "output_type": "stream",
          "name": "stdout",
          "text": [
            "504 columns dropped: ['D_AB1020AAVOL', 'D_AB14AAVOL', 'D_AB2140AAVOL', 'D_AB4180AAVOL', 'D_AB59AAVOL', 'D_ABGT80AAVOL', 'D_DEXCHUS', 'D_DEXDNUS', 'D_DEXINUS', 'D_DEXJPUS', 'D_DEXKOUS', 'D_DEXMAUS', 'D_DEXMXUS', 'D_DEXNOUS', 'D_DEXSDUS', 'D_DEXSFUS', 'D_DEXSIUS', 'D_DEXSLUS', 'D_DEXSZUS', 'D_DEXTAUS', 'D_DEXTHUS', 'D_DEXUSAL', 'D_DEXUSEU', 'D_DEXUSNZ', 'D_DEXUSUK', 'D_DEXVZUS', 'D_DTWEXAFEGS', 'D_DTWEXBGS', 'D_DTWEXEMEGS', 'D_FIN1020AAVOL', 'D_FIN14AAVOL', 'D_FIN2140AAVOL', 'D_FIN4180AAVOL', 'D_FIN59AAVOL', 'D_FINGT80AAVOL', 'D_MKT1020MKTAMT', 'D_MKT1020MKTVOL', 'D_MKT14MKTAMT', 'D_MKT14MKTVOL', 'D_MKT2140MKTAMT', 'D_MKT2140MKTVOL', 'D_MKT4180MKTVOL', 'D_MKT59MKTAMT', 'D_MKT59MKTVOL', 'D_MKTGT80MKTAMT', 'D_MKTGT80MKTVOL', 'D_NONFIN1020A2P2AMT', 'D_NONFIN1020A2P2VOL', 'D_NONFIN1020AAVOL', 'D_NONFIN14A2P2AMT', 'D_NONFIN14A2P2VOL', 'D_NONFIN14AAVOL', 'D_NONFIN2140A2P2AMT', 'D_NONFIN2140A2P2VOL', 'D_NONFIN2140AAVOL', 'D_NONFIN4180A2P2VOL', 'D_NONFIN4180AAVOL', 'D_NONFIN59A2P2AMT', 'D_NONFIN59A2P2VOL', 'D_NONFIN59AAVOL', 'D_NONFINGT80A2P2VOL', 'D_NONFINGT80AAVOL', 'D_DJCA', 'D_DJIA', 'D_DJTA', 'D_DJUA', 'D_EVZCLS', 'D_GVZCLS', 'D_NASDAQ100', 'D_NASDAQCOM', 'D_OVXCLS', 'D_RVXCLS', 'D_SP500', 'D_VIXCLS', 'D_VXAPLCLS', 'D_VXAZNCLS', 'D_VXDCLS', 'D_VXEEMCLS', 'D_VXEWZCLS', 'D_VXGOGCLS', 'D_VXGSCLS', 'D_VXIBMCLS', 'D_VXNCLS', 'D_VXVCLS', 'D_WILL2500IND', 'D_WILL2500INDGR', 'D_WILL2500INDVAL', 'D_WILL2500PR', 'D_WILL2500PRGR', 'D_WILL2500PRVAL', 'D_WILL4500IND', 'D_WILL4500PR', 'D_WILL5000IND', 'D_WILL5000PR', 'D_WILLLRGCAP', 'D_WILLLRGCAPGR', 'D_WILLLRGCAPGRPR', 'D_WILLLRGCAPPR', 'D_WILLLRGCAPVAL', 'D_WILLLRGCAPVALPR', 'D_WILLMICROCAP', 'D_WILLMICROCAPPR', 'D_WILLMIDCAP', 'D_WILLMIDCAPGR', 'D_WILLMIDCAPGRPR', 'D_WILLMIDCAPPR', 'D_WILLMIDCAPVAL', 'D_WILLMIDCAPVALPR', 'D_WILLREITIND', 'D_WILLREITPR', 'D_WILLRESIND', 'D_WILLRESIPR', 'D_WILLSMLCAP', 'D_WILLSMLCAPGR', 'D_WILLSMLCAPGRPR', 'D_WILLSMLCAPPR', 'D_WILLSMLCAPVAL', 'D_WILLSMLCAPVALPR', 'M_AAA', 'M_AAA10YM', 'M_ADPMNUSNERNSA', 'M_APU0000702111', 'M_APU0000703112', 'M_APU0000708111', 'M_APU000072610', 'M_APU0000FF1101', 'M_BAA', 'M_BAA10YM', 'M_BOGMBASE', 'M_BOGMBBM', 'M_BUSLOANSNSA', 'M_CCLACBM027NBOG', 'M_CEU0500000001', 'M_CEU0500000003', 'M_CEU0500000008', 'M_CEU1000000001', 'M_CEU1021100001', 'M_CEU2000000001', 'M_CEU3000000001', 'M_CEU3000000003', 'M_CEU3000000007', 'M_CEU4142000001', 'M_CEU4200000001', 'M_CEU4300000001', 'M_CEU4348100001', 'M_CEU4348400001', 'M_CEU5000000001', 'M_CEU5500000001', 'M_CEU6000000001', 'M_CEU6500000001', 'M_CEU7000000001', 'M_CEU8000000001', 'M_CNP16OV', 'M_CONSUMERNSA', 'M_CPIAPPNS', 'M_CPIAUCNS', 'M_CPIEDUNS', 'M_CPIENGNS', 'M_CPILFENS', 'M_CPIMEDNS', 'M_CPIUFDNS', 'M_CREACBM027NBOG', 'M_CSUSHPINSA', 'M_CURRCIR', 'M_CUUR0000SA0R', 'M_CUUR0000SAF11', 'M_CUUR0000SAH1', 'M_CUUR0000SAM1', 'M_CUUR0000SAM2', 'M_CUUR0000SASLE', 'M_CUUR0000SEFV', 'M_CUUR0000SEHA', 'M_CUUR0000SEHF01', 'M_CUUR0000SETA01', 'M_CUUR0000SETA02', 'M_CUUR0000SETB01', 'M_CUUR0000SETG01', 'M_CWUR0000SA0', 'M_DAUPNSA', 'M_DPSACBM027NBOG', 'M_EXBZUS', 'M_EXCAUS', 'M_EXCHUS', 'M_EXDNUS', 'M_EXHKUS', 'M_EXINUS', 'M_EXJPUS', 'M_EXKOUS', 'M_EXMAUS', 'M_EXMXUS', 'M_EXNOUS', 'M_EXPINF10YR', 'M_EXPINF1YR', 'M_EXPINF2YR', 'M_EXSDUS', 'M_EXSFUS', 'M_EXSIUS', 'M_EXSLUS', 'M_EXSZUS', 'M_EXTAUS', 'M_EXTHUS', 'M_EXUSAL', 'M_EXUSEU', 'M_EXUSNZ', 'M_EXUSUK', 'M_EXVZUS', 'M_FEDFUNDS', 'M_FII10', 'M_FII30', 'M_FII5', 'M_GS1', 'M_GS10', 'M_GS1M', 'M_GS2', 'M_GS20', 'M_GS3', 'M_GS30', 'M_GS3M', 'M_GS5', 'M_GS6M', 'M_GS7', 'M_HOUST1FNSA', 'M_HOUST5FNSA', 'M_HOUSTNSA', 'M_HQMCB10YR', 'M_HSN1FNSA', 'M_HTRUCKSNSA', 'M_INTDSRUSM193N', 'M_IPB50001N', 'M_IPGMFN', 'M_IRLTLT01USM156N', 'M_JTUJOL', 'M_JTULDR', 'M_JTUQUR', 'M_LFWA64TTUSM647N', 'M_LNU01000000', 'M_LNU01300000', 'M_LNU01300060', 'M_LNU02000000', 'M_LNU02300000', 'M_LNU03000000', 'M_LNU04000006', 'M_LOANINVNSA', 'M_LOANSNSA', 'M_M1NS', 'M_M2NS', 'M_MBCURRCIR', 'M_MCOILWTICO', 'M_MHHNGSP', 'M_MICH', 'M_MPCREDIT', 'M_MPRIME', 'M_MSACSRNSA', 'M_MSPNHSUS', 'M_MTSDS133FMS', 'M_PAYNSA', 'M_PCU221122221122', 'M_PCU311311', 'M_PCU311421311421', 'M_PCU324191324191', 'M_PCU325120325120', 'M_PCU325199325199P', 'M_PCU325211325211', 'M_PCU325212325212P', 'M_PCU325325', 'M_PCU325412325412', 'M_PCU325510325510', 'M_PCU32733273', 'M_PCU331110331110', 'M_PCU331315331315', 'M_PCU332510332510', 'M_PCU332618332618', 'M_PCU332911332911', 'M_PCU332991332991', 'M_PCU333120333120', 'M_PCU333132333132', 'M_PCU333611333611', 'M_PCU33441K33441K', 'M_PCU33443344', 'M_PCU335311335311', 'M_PCU335313335313', 'M_PCU335931335931', 'M_PCU336110336110', 'M_PCU336412336412', 'M_PCU336413336413', 'M_PCU441110441110', 'M_PCU44414441', 'M_PCU445110445110', 'M_PCU481111481111', 'M_PCU481481', 'M_PCU482111482111', 'M_PCU483111483111', 'M_PCU484121484121', 'M_PCU4841214841212', 'M_PCU484484', 'M_PCU532412532412', 'M_PCU622110622110', 'M_PCUARETTRARETTR', 'M_PCUATRNWRATRNWR', 'M_PCUAWHLTRAWHLTR', 'M_PCUOMFGOMFG', 'M_PERMITNSA', 'M_POPTHM', 'M_PPIACO', 'M_PPICOR', 'M_PPIFDC', 'M_PPIFDE', 'M_PPIFDF', 'M_PPIFDG', 'M_PPIFDS', 'M_PPIFID', 'M_PPIIDC', 'M_REAINTRATREARAT10Y', 'M_REAINTRATREARAT1YE', 'M_RECPROUSM156N', 'M_REVOLNS', 'M_RMFNS', 'M_RSAFSNA', 'M_RSXFSN', 'M_SNBMONTBASE', 'M_SPCS20RNSA', 'M_SUUR0000SA0', 'M_T10Y2YM', 'M_T10Y3MM', 'M_T10YFFM', 'M_T10YIEM', 'M_T30YIEM', 'M_T5YIEM', 'M_T5YIFRM', 'M_TB1YR', 'M_TB3MS', 'M_TB4WK', 'M_TB6MS', 'M_TEMPHELPN', 'M_TLAACBM027NBOG', 'M_TLMFGCON', 'M_TLNRESCON', 'M_TMBACBM027NBOG', 'M_TOTALNS', 'M_TOTALNSA', 'M_TOTRESNS', 'M_TTLCON', 'M_TWEXBGSMTH', 'M_U6RATENSA', 'M_UMCSENT', 'M_UMDMNO', 'M_UMTMNO', 'M_UMVPNO', 'M_UNDCONTNSA', 'M_UNRATENSA', 'M_UNXANO', 'M_USACPIALLMINMEI', 'M_USEPUINDXM', 'M_USREC', 'M_WPU012', 'M_WPU0221', 'M_WPU0561', 'M_WPU0571', 'M_WPU057303', 'M_WPU05730302', 'M_WPU061', 'M_WPU0638', 'M_WPU0711', 'M_WPU08', 'M_WPU081', 'M_WPU083', 'M_WPU0911', 'M_WPU091105', 'M_WPU091405', 'M_WPU10', 'M_WPU101', 'M_WPU101211', 'M_WPU1017', 'M_WPU10170502', 'M_WPU101707', 'M_WPU1411', 'M_WPU43', 'M_WPU4511', 'M_WPU5111', 'M_WPU5121', 'M_WPU571', 'M_WPU5831', 'M_WPUFD4111', 'M_WPUFD4131', 'M_WPUFD49116', 'M_WPUID61', 'M_WPUSI012011', 'M_WTISPLC', 'Q_IR3TCD01USQ156N', 'Q_IR3TED01USQ156N', 'Q_IR3TIB01USQ156N', 'Q_IRLTCT01USQ156N', 'Q_IRLTLT01USQ156N', 'Q_IRSTCI01USQ156N', 'Q_IRSTFR01USQ156N', 'Q_IRSTPI01USQ156N', 'Q_LCEAMN01USQ661N', 'Q_LFAC24TTUSQ647N', 'Q_LFAC25TTUSQ647N', 'Q_LFAC64TTUSQ647N', 'Q_LFAC74TTUSQ647N', 'Q_LFACTTTTUSQ647N', 'Q_LFEAAGTTUSQ647N', 'Q_LFEACNTTUSQ647N', 'Q_LFEAICTTUSQ647N', 'Q_LFEAINTTUSQ647N', 'Q_LFEAMNTTUSQ647N', 'Q_LFEASETTUSQ647N', 'Q_LFEM25TTUSQ647N', 'Q_LFEM55TTUSQ647N', 'Q_LFEM74TTUSQ647N', 'Q_LFEMTTTTUSQ647N', 'Q_LFESEETTUSQ647N', 'Q_LFUN24TTUSQ647N', 'Q_LFUN25TTUSQ647N', 'Q_LFUN55TTUSQ647N', 'Q_LFUN64TTUSQ647N', 'Q_LFUN74TTUSQ647N', 'Q_LFUNTTTTUSQ647N', 'Q_LFWA24TTUSQ647N', 'Q_LFWA25TTUSQ647N', 'Q_LFWA55TTUSQ647N', 'Q_LFWA64TTUSQ647N', 'Q_LFWA74TTUSQ647N', 'Q_LFWATTTTUSQ647N', 'Q_LMJVPBUVUSQ175N', 'Q_LMJVPRUVUSQ175N', 'Q_LMJVTTUVUSQ647N', 'Q_LRAC24TTUSQ156N', 'Q_LRAC25TTUSQ156N', 'Q_LRAC55TTUSQ156N', 'Q_LRAC64TTUSQ156N', 'Q_LRAC74TTUSQ156N', 'Q_LRACTTTTUSQ156N', 'Q_LREM24TTUSQ156N', 'Q_LREM25TTUSQ156N', 'Q_LREM55TTUSQ156N', 'Q_LREM64TTUSQ156N', 'Q_LREM74TTUSQ156N', 'Q_LREMTTTTUSQ156N', 'Q_LRUN24TTUSQ156N', 'Q_LRUN25TTUSQ156N', 'Q_LRUN55TTUSQ156N', 'Q_LRUN64TTUSQ156N', 'Q_LRUN74TTUSQ156N', 'Q_LRUNTTTTUSQ156N', 'Q_MANMM101USQ189N', 'Q_ODMNTO02USQ470N', 'Q_PIEAEN01USQ661N', 'Q_PIEAFD01USQ661N', 'Q_PIEAMI01USQ661N', 'Q_PIEAMP01USQ661N', 'Q_PISPFG01USQ661N', 'Q_PISPIG01USQ661N', 'Q_PISPPR01USQ661N', 'Q_PITGCD01USQ661N', 'Q_PITGCG01USQ661N', 'Q_PITGIG01USQ661N', 'Q_PITGND01USQ661N', 'Q_PITGVG01USQ661N', 'Q_PRINTO01USQ661N', 'Q_PRMNCG01USQ661N', 'Q_PRMNIG01USQ661N', 'Q_PRMNTO01USQ661N', 'Q_SLMNTO02USQ189N', 'Q_SLRTTO02USQ189N', 'Q_SLWHTO02USQ189N', 'Q_SPASTT01USQ661N', 'Q_STMNIS01USQ163N', 'Q_USAPPDMQINMEI', 'Q_WSCNDW01USQ470N', 'Q_XTEXVA01USQ664N', 'Q_XTIMVA01USQ664N', 'Q_XTNTVA01USQ664N', 'Q_GDP', 'Core CPI,not seas.adj,,, [CORENS]', 'Core CPI,seas.adj,,, [CORESA]', 'CPI Price, % y-o-y, not seas. adj.,, [CPTOTSAXNZGY]', 'CPI Price, seas. adj.,,, [CPTOTSAXN]', 'CPI Price,not seas.adj,,, [CPTOTNSXN]', 'Exports Merchandise, Customs, constant US$, millions, not seas. adj. [DXGSRMRCHNSKD]', 'Exports Merchandise, Customs, constant US$, millions, seas. adj. [DXGSRMRCHSAKD]', 'Exports Merchandise, Customs, current US$, millions, not seas. adj. [DXGSRMRCHNSCD]', 'Exports Merchandise, Customs, current US$, millions, seas. adj. [DXGSRMRCHSACD]', 'Exports Merchandise, Customs, Price, US$, not seas. adj. [DXGSRMRCHNSXD]', 'Exports Merchandise, Customs, Price, US$, seas. adj. [DXGSRMRCHSAXD]', 'Imports Merchandise, Customs, constant US$, millions, not seas. adj. [DMGSRMRCHNSKD]', 'Imports Merchandise, Customs, constant US$, millions, seas. adj. [DMGSRMRCHSAKD]', 'Imports Merchandise, Customs, current US$, millions, not seas. adj. [DMGSRMRCHNSCD]', 'Imports Merchandise, Customs, current US$, millions, seas. adj. [DMGSRMRCHSACD]', 'Imports Merchandise, Customs, Price, US$, not seas. adj. [DMGSRMRCHNSXD]', 'Imports Merchandise, Customs, Price, US$, seas. adj. [DMGSRMRCHSAXD]', 'Industrial Production, constant US$, seas. adj.,, [IPTOTSAKD]', 'Industrial Production, constant US$,,, [IPTOTNSKD]', 'Months Import Cover of Foreign Reserves,,,, [IMPCOV]', 'Retail Sales Volume,Index,,, [RETSALESSA]', 'Stock Markets, LCU,,, [DSTKMKTXN]', 'Stock Markets, US$,,, [DSTKMKTXD]', 'Terms of Trade,,,, [TOT]', 'Total Reserves,,,, [TOTRESV]', 'Unemployment rate,Percent,,, [UNEMPSA_]', 'Crypto_Trends', 'US_market', 'ACWI_market']\n"
          ]
        }
      ]
    },
    {
      "cell_type": "code",
      "source": [
        "# https://www.kaggle.com/code/ahammedjaleel/price-prediction-top-14-boosting-stacking"
      ],
      "metadata": {
        "id": "WYSJu-YDAg70"
      },
      "execution_count": 9,
      "outputs": []
    },
    {
      "cell_type": "markdown",
      "source": [
        "# Random Forest\n"
      ],
      "metadata": {
        "id": "LJI_YDHBXiAK"
      }
    },
    {
      "cell_type": "code",
      "source": [
        "from sklearn.ensemble import RandomForestRegressor\n",
        "from sklearn.model_selection import GridSearchCV\n",
        "from sklearn import metrics\n",
        "import matplotlib.pyplot as plt\n",
        "from scipy import stats\n",
        "from scipy.stats import norm, randint\n",
        "import seaborn as sns\n",
        "import joblib"
      ],
      "metadata": {
        "id": "40z4JC8TU8cD"
      },
      "execution_count": 10,
      "outputs": []
    },
    {
      "cell_type": "code",
      "source": [
        "# https://florianwilhelm.info/2020/05/honey_i_shrunk_the_target_variable/\n",
        "# https://scikit-learn.org/stable/auto_examples/compose/plot_transformed_target.html#sphx-glr-auto-examples-compose-plot-transformed-target-py\n",
        "\n",
        "_x_train = prep['x_train']\n",
        "_y_train = prep['y_train']\n",
        "\n",
        "y_test = prep['y_test']"
      ],
      "metadata": {
        "id": "jfDJflfgtOd8"
      },
      "execution_count": 11,
      "outputs": []
    },
    {
      "cell_type": "code",
      "source": [
        "# inverting percent change\n",
        "inv_price = prep['inverse_price']\n",
        "inv_price_train = inv_price.loc[_x_train.index]\n",
        "inv_price_test = inv_price.loc[y_test.index]\n",
        "# last price on x_train\n",
        "last_train_price = inv_price.loc[_x_train.index[-1]]"
      ],
      "metadata": {
        "id": "bRt0xFx6iGPz"
      },
      "execution_count": 12,
      "outputs": []
    },
    {
      "cell_type": "code",
      "source": [
        "# sns.distplot(_y_train, fit=norm)\n",
        "# mu, sigma = norm.fit(_y_train)\n",
        "# plt.ylabel('Frequency')\n",
        "# plt.xlabel('Crypto Index Price')\n",
        "# plt.title('Crypto Index Price Distribution')"
      ],
      "metadata": {
        "id": "0Ryo9Bkz5h42"
      },
      "execution_count": 13,
      "outputs": []
    },
    {
      "cell_type": "code",
      "source": [
        "class RFRegressor:\n",
        "\n",
        "  def hyper_tuning(self, x_train, y_train):\n",
        "    params = {\n",
        "        'n_estimators': [75,85, 95, 105],\n",
        "        'max_depth': [None, 100],\n",
        "    }\n",
        "\n",
        "    grid_search = GridSearchCV(\n",
        "        estimator=RandomForestRegressor(random_state=123, n_jobs=-1),\n",
        "        scoring='neg_mean_squared_error',\n",
        "        param_grid=params,\n",
        "        n_jobs=-1,\n",
        "        return_train_score=True\n",
        "    )\n",
        "\n",
        "    rf_cv = grid_search.fit(x_train, y_train)\n",
        "\n",
        "    return rf_cv.best_params_, rf_cv.best_score_\n",
        "\n",
        "\n",
        "  def train_regressor(self, rf_reg, x_train, y_train):\n",
        "    # {'max_depth': None, 'n_estimators': 85}, -0.002651902149024161\n",
        "    rf_reg.fit(X=x_train, y=y_train)\n",
        "\n",
        "    return rf_reg"
      ],
      "metadata": {
        "id": "0J84e4gqpLTr"
      },
      "execution_count": 24,
      "outputs": []
    },
    {
      "cell_type": "code",
      "source": [
        "rf = RandomForestRegressor(max_depth=None,\n",
        "                           n_estimators=85,\n",
        "                           random_state=123,\n",
        "                           n_jobs=-1\n",
        "                           )\n",
        "# fit model\n",
        "rf.fit(X=_x_train, y=_y_train)\n",
        "# initialize test\n",
        "_x_test = prep['x_test']\n",
        "# prediction\n",
        "pred = rf.predict(_x_test)\n",
        "# inverse prediction to actual price\n",
        "inv_pred = (1 + pred).cumprod()*last_train_price.values\n",
        "\n",
        "root_score = np.sqrt(metrics.mean_squared_error(inv_pred, inv_price_test))\n",
        "\n",
        "print(f'RMSE {root_score}')"
      ],
      "metadata": {
        "colab": {
          "base_uri": "https://localhost:8080/"
        },
        "id": "i9PX7LONbMY-",
        "outputId": "38884b41-7408-4ed4-d4e1-d699c7044bec"
      },
      "execution_count": 58,
      "outputs": [
        {
          "output_type": "stream",
          "name": "stderr",
          "text": [
            "<ipython-input-58-291416e63bb9>:7: DataConversionWarning: A column-vector y was passed when a 1d array was expected. Please change the shape of y to (n_samples,), for example using ravel().\n",
            "  rf.fit(X=_x_train, y=_y_train)\n"
          ]
        },
        {
          "output_type": "stream",
          "name": "stdout",
          "text": [
            "RMSE 538.2772278102482\n"
          ]
        }
      ]
    },
    {
      "cell_type": "code",
      "source": [
        "importances = list(zip(rf.feature_importances_, _x_train.columns))\n",
        "importances.sort(reverse=True)\n",
        "print(importances)"
      ],
      "metadata": {
        "id": "tB8AsXEfnrAA",
        "colab": {
          "base_uri": "https://localhost:8080/"
        },
        "outputId": "191e500f-d2f2-4e32-a95d-56d290c030c2"
      },
      "execution_count": 17,
      "outputs": [
        {
          "output_type": "stream",
          "name": "stdout",
          "text": [
            "[(0.058080088588635184, 'D_NONFIN14AAAMT'), (0.057354818566444074, 'Crypto_Trends'), (0.04973760722872525, 'D_AB2140AAAMT'), (0.04842490817706078, 'D_DEXCAUS'), (0.04764355824619975, 'D_ABGT80AAAMT'), (0.04294892935870635, 'D_NONFINGT80AAAMT'), (0.04142058514618848, 'D_NONFIN4180A2P2AMT'), (0.04136724803379409, 'D_NONFINGT80A2P2AMT'), (0.03851663430454275, 'D_AB14AAAMT'), (0.037617605313521534, 'D_FIN2140AAAMT'), (0.036525761027563095, 'D_DEXBZUS'), (0.036291808997839445, 'D_NONFIN1020AAAMT'), (0.03533909693312231, 'D_NONFIN4180AAAMT'), (0.03367113389131995, 'D_AB59AAAMT'), (0.03306443197652497, 'D_FIN59AAAMT'), (0.03276810256139959, 'D_AB4180AAAMT'), (0.03262087678517558, 'D_FINGT80AAAMT'), (0.0324325284304398, 'D_DEXHKUS'), (0.03119871691003026, 'D_NONFIN2140AAAMT'), (0.030608900272896387, 'D_AB1020AAAMT'), (0.030104847573444008, 'D_FIN14AAAMT'), (0.029385160725138682, 'D_NONFIN59AAAMT'), (0.028776512792090612, 'D_MKT4180MKTAMT'), (0.02092663194237616, 'D_FIN1020AAAMT'), (0.020363367741629765, 'Q_LFAC55TTUSQ647N'), (0.020306451896435783, 'D_FIN4180AAAMT'), (0.02011166728776973, 'M_CEU9000000001'), (0.01874550106474609, 'M_MARTSMPCSM44X72USN'), (0.013646518226239726, 'M_CEU0500000002'), (0.0, 'M_MYAGM2USM052N')]\n"
          ]
        }
      ]
    },
    {
      "cell_type": "code",
      "source": [
        "x_values = _x_test.index\n",
        "plt.plot(x_values, inv_pred, label='pred', color='blue')\n",
        "plt.plot(x_values, inv_price_test, label='actual', color='red')\n",
        "plt.show()"
      ],
      "metadata": {
        "id": "BUdHgMcnaZE-",
        "colab": {
          "base_uri": "https://localhost:8080/",
          "height": 430
        },
        "outputId": "9bf89e61-3a04-4cc0-a8db-c93d1925d95a"
      },
      "execution_count": 18,
      "outputs": [
        {
          "output_type": "display_data",
          "data": {
            "text/plain": [
              "<Figure size 640x480 with 1 Axes>"
            ],
            "image/png": "[encoded data removed]"
          },
          "metadata": {}
        }
      ]
    },
    {
      "cell_type": "markdown",
      "source": [
        "# XGBOOST"
      ],
      "metadata": {
        "id": "HaRR3_sVKzGl"
      }
    },
    {
      "cell_type": "code",
      "source": [
        "from xgboost import XGBRegressor"
      ],
      "metadata": {
        "id": "1_uYyJkWGYaX"
      },
      "execution_count": 19,
      "outputs": []
    },
    {
      "cell_type": "code",
      "source": [
        "class XgbRegression:\n",
        "\n",
        "  def hyper_tuning(self, x_train, y_train):\n",
        "    params = {\n",
        "        \"learning_rate\": [0.05, 0.10],\n",
        "        'n_estimators': [75,85, 95, 105],\n",
        "        'max_depth': [None, 100],\n",
        "    }\n",
        "\n",
        "    grid_search = GridSearchCV(\n",
        "        estimator=XGBRegressor(random_state=123, n_jobs=-1),\n",
        "        scoring='neg_mean_squared_error',\n",
        "        param_grid=params,\n",
        "        n_jobs=-1,\n",
        "        return_train_score=True\n",
        "    )\n",
        "\n",
        "    rf_cv = grid_search.fit(x_train, y_train)\n",
        "\n",
        "    return rf_cv.best_params_, rf_cv.best_score_\n",
        "\n",
        "\n",
        "  def train_regressor(self):\n",
        "    ..."
      ],
      "metadata": {
        "id": "VeJenunGgm39"
      },
      "execution_count": 29,
      "outputs": []
    },
    {
      "cell_type": "code",
      "source": [
        "XgbRegression().hyper_tuning(x_train=_x_train, y_train=_y_train)"
      ],
      "metadata": {
        "colab": {
          "base_uri": "https://localhost:8080/"
        },
        "id": "0R3DdAgkkUj-",
        "outputId": "ab0bdcee-c61b-4a10-f17a-bf8cde9bb466"
      },
      "execution_count": 30,
      "outputs": [
        {
          "output_type": "execute_result",
          "data": {
            "text/plain": [
              "({'learning_rate': 0.05, 'max_depth': None, 'n_estimators': 75},\n",
              " -0.0026825579268249617)"
            ]
          },
          "metadata": {},
          "execution_count": 30
        }
      ]
    },
    {
      "cell_type": "code",
      "source": [
        "xgb = XGBRegressor(learning_rate=0.05,\n",
        "                   max_depth=None,\n",
        "                   n_estimators=75,\n",
        "                   n_jobs=-1,\n",
        "                   random_state=123,\n",
        "                  )\n",
        "\n",
        "xgb.fit(X=_x_train, y=_y_train)\n",
        "\n",
        "xgb_pred = xgb.predict(_x_test)\n",
        "\n",
        "inv_xgb_pred =  (1 + xgb_pred).cumprod()*last_train_price.values\n",
        "\n",
        "root_score = np.sqrt(metrics.mean_squared_error(inv_xgb_pred, inv_price_test))\n",
        "\n",
        "print(f'RMSE {root_score}')"
      ],
      "metadata": {
        "id": "oTxnzURDGx2E",
        "colab": {
          "base_uri": "https://localhost:8080/"
        },
        "outputId": "a451371c-d3c4-4991-b433-85ddc4af3caa"
      },
      "execution_count": 53,
      "outputs": [
        {
          "output_type": "stream",
          "name": "stdout",
          "text": [
            "RMSE 585.8644468165759\n"
          ]
        }
      ]
    },
    {
      "cell_type": "code",
      "source": [
        "importances = list(zip(xgb.feature_importances_, _x_train.columns))\n",
        "importances.sort(reverse=True)\n",
        "print(importances)"
      ],
      "metadata": {
        "id": "voRG8Wy4UsGA",
        "colab": {
          "base_uri": "https://localhost:8080/"
        },
        "outputId": "89ce8570-338e-4a96-c6c3-c8786f3762bf"
      },
      "execution_count": 54,
      "outputs": [
        {
          "output_type": "stream",
          "name": "stdout",
          "text": [
            "[(0.0707589, 'Q_LFAC55TTUSQ647N'), (0.050248746, 'D_NONFINGT80AAAMT'), (0.04705005, 'D_NONFIN14AAAMT'), (0.04354799, 'Crypto_Trends'), (0.043465547, 'D_NONFIN4180A2P2AMT'), (0.040273417, 'D_NONFINGT80A2P2AMT'), (0.03963018, 'D_DEXCAUS'), (0.038436588, 'D_DEXBZUS'), (0.037679747, 'D_DEXHKUS'), (0.03750527, 'D_MKT4180MKTAMT'), (0.03543561, 'D_FINGT80AAAMT'), (0.034640007, 'D_FIN2140AAAMT'), (0.03431885, 'D_ABGT80AAAMT'), (0.034177028, 'D_FIN14AAAMT'), (0.032841735, 'D_FIN59AAAMT'), (0.032711145, 'D_NONFIN4180AAAMT'), (0.03132973, 'D_NONFIN1020AAAMT'), (0.031306855, 'D_NONFIN2140AAAMT'), (0.030738235, 'D_FIN1020AAAMT'), (0.030709771, 'M_MARTSMPCSM44X72USN'), (0.029757794, 'M_CEU9000000001'), (0.02956947, 'D_AB59AAAMT'), (0.02909138, 'D_NONFIN59AAAMT'), (0.028571744, 'D_AB4180AAAMT'), (0.027247563, 'D_AB2140AAAMT'), (0.025989775, 'M_CEU0500000002'), (0.02419409, 'D_FIN4180AAAMT'), (0.018619899, 'D_AB14AAAMT'), (0.01015291, 'D_AB1020AAAMT'), (0.0, 'M_MYAGM2USM052N')]\n"
          ]
        }
      ]
    },
    {
      "cell_type": "code",
      "source": [
        "x_values = _x_test.index\n",
        "plt.plot(x_values, inv_xgb_pred, label='pred', color='blue')\n",
        "plt.plot(x_values, inv_price_test, label='actual', color='red')\n",
        "plt.show()"
      ],
      "metadata": {
        "id": "rFfYlBKcHN6-",
        "colab": {
          "base_uri": "https://localhost:8080/",
          "height": 430
        },
        "outputId": "271941f3-d46e-4367-e3f9-ff153294d127"
      },
      "execution_count": 55,
      "outputs": [
        {
          "output_type": "display_data",
          "data": {
            "text/plain": [
              "<Figure size 640x480 with 1 Axes>"
            ],
            "image/png": "[encoded data removed]"
          },
          "metadata": {}
        }
      ]
    },
    {
      "cell_type": "code",
      "source": [
        "stack = np.mean([inv_pred, inv_xgb_pred], axis=0)\n",
        "\n",
        "x_values = _x_test.index\n",
        "plt.plot(x_values, stack, label='pred', color='blue')\n",
        "plt.plot(x_values, inv_price_test, label='actual', color='red')\n",
        "plt.show()"
      ],
      "metadata": {
        "colab": {
          "base_uri": "https://localhost:8080/",
          "height": 430
        },
        "id": "AvzxBzA2qt7I",
        "outputId": "7dcb5104-9ea4-437f-cc46-7358054923dc"
      },
      "execution_count": 56,
      "outputs": [
        {
          "output_type": "display_data",
          "data": {
            "text/plain": [
              "<Figure size 640x480 with 1 Axes>"
            ],
            "image/png": "[encoded data removed]"
          },
          "metadata": {}
        }
      ]
    },
    {
      "cell_type": "code",
      "source": [
        "def Deploy_Pipeline(start, end):\n",
        "  # load data from github\n",
        "  df = Data_Loader().data\n",
        "  # remove target\n",
        "  df = df.loc[:, ~df.columns.isin(['crypto_market'])]\n",
        "  # make extra columns\n",
        "  # df[interaction_col] = df[col_1] * df[col_2]\n",
        "  # ...\n",
        "\n",
        "  # load trained model\n",
        "  rand_forest = joblib.load('random_forest.pkl')\n",
        "\n",
        "  # select range of date to test, used columns used in the model\n",
        "  test = df.iloc[start:end][rand_forest.feature_names_in_]\n",
        "\n",
        "  # make prediction\n",
        "  prediction = rand_forest.predict(test)\n",
        "\n",
        "  # any inversion required to get to actual price\n",
        "  # (1 + prediction).cumprod()*last_train_price.values\n",
        "\n",
        "  return prediction"
      ],
      "metadata": {
        "id": "zqj01Q-JduPl"
      },
      "execution_count": 57,
      "outputs": []
    }
  ]
}